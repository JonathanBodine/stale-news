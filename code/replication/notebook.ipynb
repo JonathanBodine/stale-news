{
 "cells": [
  {
   "cell_type": "code",
   "execution_count": 112,
   "metadata": {},
   "outputs": [],
   "source": [
    "import math\n",
    "import datetime\n",
    "import numpy as np\n",
    "import pandas as pd\n",
    "from datascience import *\n",
    "from linearmodels.panel import FamaMacBeth, PanelOLS"
   ]
  },
  {
   "cell_type": "markdown",
   "metadata": {},
   "source": [
    "\n",
    "# I. Import Data"
   ]
  },
  {
   "cell_type": "code",
   "execution_count": 129,
   "metadata": {},
   "outputs": [
    {
     "data": {
      "text/html": [
       "<table border=\"1\" class=\"dataframe\">\n",
       "    <thead>\n",
       "        <tr>\n",
       "            <th>id</th> <th>ticker</th> <th>date</th> <th>time</th> <th>Old</th> <th>ClosestNeighbor</th> <th>length</th> <th>closest1</th> <th>closest2</th>\n",
       "        </tr>\n",
       "    </thead>\n",
       "    <tbody>\n",
       "        <tr>\n",
       "            <td>8TAW6K50XY</td> <td>9769Z </td> <td>20150223</td> <td>16:06:32</td> <td>0.63</td> <td>0.14           </td> <td>288   </td> <td>YOMDOKHRFD</td> <td>NAAQUDSJRC</td>\n",
       "        </tr>\n",
       "        <tr>\n",
       "            <td>8TAW6K50XY</td> <td>SF    </td> <td>20150223</td> <td>16:06:32</td> <td>0.07</td> <td>0.02           </td> <td>343   </td> <td>PQJNIPIJUS</td> <td>TTFNYRKMNP</td>\n",
       "        </tr>\n",
       "        <tr>\n",
       "            <td>A7186S972M</td> <td>BA    </td> <td>20150224</td> <td>10:00:44</td> <td>0.33</td> <td>0.05           </td> <td>407   </td> <td>UTBGWCGZPC</td> <td>VDFQEFZZKG</td>\n",
       "        </tr>\n",
       "        <tr>\n",
       "            <td>AD676TTDS4</td> <td>BAC   </td> <td>20150224</td> <td>12:13:19</td> <td>0.63</td> <td>0.11           </td> <td>271   </td> <td>RACFHISWOW</td> <td>TPNEHGLCJC</td>\n",
       "        </tr>\n",
       "        <tr>\n",
       "            <td>9VXX6K50YG</td> <td>HD    </td> <td>20150224</td> <td>06:01:09</td> <td>0.84</td> <td>0.52           </td> <td>400   </td> <td>VKPCWAAXBQ</td> <td>HJEMPDYORB</td>\n",
       "        </tr>\n",
       "        <tr>\n",
       "            <td>9YP56K50Y9</td> <td>CMCSA </td> <td>20150224</td> <td>07:00:41</td> <td>0.91</td> <td>0.45           </td> <td>135   </td> <td>BUBWPAFEYK</td> <td>SUYDJOSSPP</td>\n",
       "        </tr>\n",
       "        <tr>\n",
       "            <td>A70T6S972G</td> <td>BA    </td> <td>20150224</td> <td>10:00:29</td> <td>0.83</td> <td>0.21           </td> <td>234   </td> <td>YSETNVDMAF</td> <td>GKDYFAZNVT</td>\n",
       "        </tr>\n",
       "        <tr>\n",
       "            <td>ANXC6K50XX</td> <td>HPQ   </td> <td>20150224</td> <td>16:05:36</td> <td>0.38</td> <td>0.02           </td> <td>420   </td> <td>ZDGHORHGFV</td> <td>WQZIVSCZWU</td>\n",
       "        </tr>\n",
       "        <tr>\n",
       "            <td>C7Z16KLVRE</td> <td>JPM   </td> <td>20150225</td> <td>12:16:13</td> <td>0.16</td> <td>0.04           </td> <td>98    </td> <td>PSPYXMGDZL</td> <td>GXOBQGIXJK</td>\n",
       "        </tr>\n",
       "        <tr>\n",
       "            <td>CFNR6S972O</td> <td>HPQ   </td> <td>20150225</td> <td>15:02:15</td> <td>0.15</td> <td>0.03           </td> <td>178   </td> <td>GIMZXBSEWX</td> <td>ZYOHBXFJXO</td>\n",
       "        </tr>\n",
       "    </tbody>\n",
       "</table>\n",
       "<p>... (743 rows omitted)</p>"
      ],
      "text/plain": [
       "id         | ticker | date     | time     | Old  | ClosestNeighbor | length | closest1   | closest2\n",
       "8TAW6K50XY | 9769Z  | 20150223 | 16:06:32 | 0.63 | 0.14            | 288    | YOMDOKHRFD | NAAQUDSJRC\n",
       "8TAW6K50XY | SF     | 20150223 | 16:06:32 | 0.07 | 0.02            | 343    | PQJNIPIJUS | TTFNYRKMNP\n",
       "A7186S972M | BA     | 20150224 | 10:00:44 | 0.33 | 0.05            | 407    | UTBGWCGZPC | VDFQEFZZKG\n",
       "AD676TTDS4 | BAC    | 20150224 | 12:13:19 | 0.63 | 0.11            | 271    | RACFHISWOW | TPNEHGLCJC\n",
       "9VXX6K50YG | HD     | 20150224 | 06:01:09 | 0.84 | 0.52            | 400    | VKPCWAAXBQ | HJEMPDYORB\n",
       "9YP56K50Y9 | CMCSA  | 20150224 | 07:00:41 | 0.91 | 0.45            | 135    | BUBWPAFEYK | SUYDJOSSPP\n",
       "A70T6S972G | BA     | 20150224 | 10:00:29 | 0.83 | 0.21            | 234    | YSETNVDMAF | GKDYFAZNVT\n",
       "ANXC6K50XX | HPQ    | 20150224 | 16:05:36 | 0.38 | 0.02            | 420    | ZDGHORHGFV | WQZIVSCZWU\n",
       "C7Z16KLVRE | JPM    | 20150225 | 12:16:13 | 0.16 | 0.04            | 98     | PSPYXMGDZL | GXOBQGIXJK\n",
       "CFNR6S972O | HPQ    | 20150225 | 15:02:15 | 0.15 | 0.03            | 178    | GIMZXBSEWX | ZYOHBXFJXO\n",
       "... (743 rows omitted)"
      ]
     },
     "execution_count": 129,
     "metadata": {},
     "output_type": "execute_result"
    }
   ],
   "source": [
    "data = Table.read_table(\"../data/simulated_data.csv\") # headers pre-added\n",
    "data.sort(\"date\")"
   ]
  },
  {
   "cell_type": "code",
   "execution_count": 114,
   "metadata": {},
   "outputs": [],
   "source": [
    "quarterly = Table.read_table(\"../data/quarterly.csv\")"
   ]
  },
  {
   "cell_type": "code",
   "execution_count": 115,
   "metadata": {},
   "outputs": [
    {
     "data": {
      "text/html": [
       "<table border=\"1\" class=\"dataframe\">\n",
       "    <thead>\n",
       "        <tr>\n",
       "            <th>ticker</th> <th>date</th> <th>BVal</th>\n",
       "        </tr>\n",
       "    </thead>\n",
       "    <tbody>\n",
       "        <tr>\n",
       "            <td>AIR   </td> <td>19870228</td> <td>228.106</td>\n",
       "        </tr>\n",
       "        <tr>\n",
       "            <td>AELNA </td> <td>19870228</td> <td>90.447 </td>\n",
       "        </tr>\n",
       "        <tr>\n",
       "            <td>4225B </td> <td>19870228</td> <td>5.614  </td>\n",
       "        </tr>\n",
       "        <tr>\n",
       "            <td>7547B </td> <td>19870228</td> <td>19.135 </td>\n",
       "        </tr>\n",
       "        <tr>\n",
       "            <td>CECE  </td> <td>19870228</td> <td>1.084  </td>\n",
       "        </tr>\n",
       "        <tr>\n",
       "            <td>ASA   </td> <td>19870228</td> <td>747.064</td>\n",
       "        </tr>\n",
       "        <tr>\n",
       "            <td>ADDC  </td> <td>19870228</td> <td>2.505  </td>\n",
       "        </tr>\n",
       "        <tr>\n",
       "            <td>ADVC. </td> <td>19870228</td> <td>42.461 </td>\n",
       "        </tr>\n",
       "        <tr>\n",
       "            <td>AESM  </td> <td>19870228</td> <td>23.839 </td>\n",
       "        </tr>\n",
       "        <tr>\n",
       "            <td>ALAN  </td> <td>19870228</td> <td>11.022 </td>\n",
       "        </tr>\n",
       "    </tbody>\n",
       "</table>\n",
       "<p>... (992283 rows omitted)</p>"
      ],
      "text/plain": [
       "ticker | date     | BVal\n",
       "AIR    | 19870228 | 228.106\n",
       "AELNA  | 19870228 | 90.447\n",
       "4225B  | 19870228 | 5.614\n",
       "7547B  | 19870228 | 19.135\n",
       "CECE   | 19870228 | 1.084\n",
       "ASA    | 19870228 | 747.064\n",
       "ADDC   | 19870228 | 2.505\n",
       "ADVC.  | 19870228 | 42.461\n",
       "AESM   | 19870228 | 23.839\n",
       "ALAN   | 19870228 | 11.022\n",
       "... (992283 rows omitted)"
      ]
     },
     "execution_count": 115,
     "metadata": {},
     "output_type": "execute_result"
    }
   ],
   "source": [
    "quarterly = quarterly.with_column(\"atqr_exists\", np.isnan(quarterly.column(\"atqr\")))\n",
    "quarterly = quarterly.where(\"atqr_exists\", False).drop(\"atqr_exists\")\n",
    "quarterly = quarterly.select(\"tic\",\"datadate\",\"atqr\").relabel(\"tic\", \"ticker\").relabel(\"datadate\", \"date\").relabel(\"atqr\",\"BVal\")\n",
    "quarterly.sort(\"date\")"
   ]
  },
  {
   "cell_type": "code",
   "execution_count": 116,
   "metadata": {},
   "outputs": [],
   "source": [
    "daily = Table.read_table(\"../data/daily.csv\") # TODO: Only 2015??"
   ]
  },
  {
   "cell_type": "code",
   "execution_count": null,
   "metadata": {},
   "outputs": [],
   "source": [
    "daily = daily.with_column(\"MCap\", daily.column(\"cshoc\") * daily.column(\"prcod\"))\n",
    "daily = daily.with_column(\"return\", (daily.column(\"prcod\") - daily.column(\"prccd\"))/daily.column(\"prcod\"))\n",
    "daily = daily.with_column(\"frac\", daily.column(\"cshtrd\")/daily.column(\"cshoc\"))\n",
    "daily = daily.with_column(\"volatility\", daily.column(\"prchd\") - daily.column(\"prcld\"))"
   ]
  },
  {
   "cell_type": "code",
   "execution_count": 118,
   "metadata": {},
   "outputs": [],
   "source": [
    "# ERROR: Data N/A?\n",
    "daily = daily.with_column(\"MCap_exists\", np.isnan(daily.column(\"MCap\")))\n",
    "daily = daily.where(\"MCap_exists\", False).drop(\"MCap_exists\")"
   ]
  },
  {
   "cell_type": "code",
   "execution_count": 134,
   "metadata": {},
   "outputs": [],
   "source": [
    "daily = daily.drop(\"gvkey\", \"iid\").relabel(\"datadate\", \"date\").relabel(\"tic\", \"ticker\")"
   ]
  },
  {
   "cell_type": "code",
   "execution_count": 136,
   "metadata": {},
   "outputs": [
    {
     "data": {
      "text/html": [
       "<table border=\"1\" class=\"dataframe\">\n",
       "    <thead>\n",
       "        <tr>\n",
       "            <th>date</th> <th>ticker</th> <th>cshoc</th> <th>cshtrd</th> <th>prccd</th> <th>prchd</th> <th>prcld</th> <th>prcod</th> <th>MCap</th> <th>return</th> <th>frac</th> <th>volatility</th>\n",
       "        </tr>\n",
       "    </thead>\n",
       "    <tbody>\n",
       "        <tr>\n",
       "            <td>20150102</td> <td>AIR   </td> <td>3.9791e+07 </td> <td>153348     </td> <td>27.21</td> <td>27.84  </td> <td>26.79  </td> <td>27.8 </td> <td>1.10619e+09</td> <td>0.021223    </td> <td>0.00385384 </td> <td>1.05      </td>\n",
       "        </tr>\n",
       "        <tr>\n",
       "            <td>20150102</td> <td>AAL   </td> <td>7.17264e+08</td> <td>1.07496e+07</td> <td>53.91</td> <td>54.6   </td> <td>53.07  </td> <td>54.28</td> <td>3.89331e+10</td> <td>0.00681651  </td> <td>0.014987   </td> <td>1.53      </td>\n",
       "        </tr>\n",
       "        <tr>\n",
       "            <td>20150102</td> <td>CECE  </td> <td>2.5866e+07 </td> <td>25996      </td> <td>15.38</td> <td>15.69  </td> <td>15.0691</td> <td>15.69</td> <td>4.05838e+08</td> <td>0.0197578   </td> <td>0.00100503 </td> <td>0.6209    </td>\n",
       "        </tr>\n",
       "        <tr>\n",
       "            <td>20150102</td> <td>ASA   </td> <td>1.929e+07  </td> <td>82894      </td> <td>10.42</td> <td>10.42  </td> <td>9.98   </td> <td>9.98 </td> <td>1.92514e+08</td> <td>-0.0440882  </td> <td>0.00429725 </td> <td>0.44      </td>\n",
       "        </tr>\n",
       "        <tr>\n",
       "            <td>20150102</td> <td>AVX   </td> <td>1.67957e+08</td> <td>127014     </td> <td>13.87</td> <td>14.1   </td> <td>13.7555</td> <td>14.03</td> <td>2.35644e+09</td> <td>0.0114041   </td> <td>0.000756229</td> <td>0.3445    </td>\n",
       "        </tr>\n",
       "        <tr>\n",
       "            <td>20150102</td> <td>PNW   </td> <td>1.1045e+08 </td> <td>640202     </td> <td>68.64</td> <td>68.83  </td> <td>67.69  </td> <td>68.58</td> <td>7.57466e+09</td> <td>-0.000874891</td> <td>0.00579631 </td> <td>1.14      </td>\n",
       "        </tr>\n",
       "        <tr>\n",
       "            <td>20150102</td> <td>AAN   </td> <td>7.2474e+07 </td> <td>898851     </td> <td>30.62</td> <td>30.86  </td> <td>30.04  </td> <td>30.81</td> <td>2.23292e+09</td> <td>0.00616683  </td> <td>0.0124024  </td> <td>0.82      </td>\n",
       "        </tr>\n",
       "        <tr>\n",
       "            <td>20150102</td> <td>ABT   </td> <td>1.50579e+09</td> <td>3.21656e+06</td> <td>44.9 </td> <td>45.4501</td> <td>44.635 </td> <td>45.25</td> <td>6.8137e+10 </td> <td>0.00773481  </td> <td>0.00213613 </td> <td>0.8151    </td>\n",
       "        </tr>\n",
       "        <tr>\n",
       "            <td>20150102</td> <td>WDDD  </td> <td>9.6852e+07 </td> <td>53437      </td> <td>0.142</td> <td>0.149  </td> <td>0.14   </td> <td>0.148</td> <td>1.43341e+07</td> <td>0.0405405   </td> <td>0.000551739</td> <td>0.009     </td>\n",
       "        </tr>\n",
       "        <tr>\n",
       "            <td>20150102</td> <td>ACET  </td> <td>2.9065e+07 </td> <td>158985     </td> <td>21.62</td> <td>21.964 </td> <td>21.215 </td> <td>21.89</td> <td>6.36233e+08</td> <td>0.0123344   </td> <td>0.00546998 </td> <td>0.749     </td>\n",
       "        </tr>\n",
       "    </tbody>\n",
       "</table>\n",
       "<p>... (3161929 rows omitted)</p>"
      ],
      "text/plain": [
       "date     | ticker | cshoc       | cshtrd      | prccd | prchd   | prcld   | prcod | MCap        | return       | frac        | volatility\n",
       "20150102 | AIR    | 3.9791e+07  | 153348      | 27.21 | 27.84   | 26.79   | 27.8  | 1.10619e+09 | 0.021223     | 0.00385384  | 1.05\n",
       "20150102 | AAL    | 7.17264e+08 | 1.07496e+07 | 53.91 | 54.6    | 53.07   | 54.28 | 3.89331e+10 | 0.00681651   | 0.014987    | 1.53\n",
       "20150102 | CECE   | 2.5866e+07  | 25996       | 15.38 | 15.69   | 15.0691 | 15.69 | 4.05838e+08 | 0.0197578    | 0.00100503  | 0.6209\n",
       "20150102 | ASA    | 1.929e+07   | 82894       | 10.42 | 10.42   | 9.98    | 9.98  | 1.92514e+08 | -0.0440882   | 0.00429725  | 0.44\n",
       "20150102 | AVX    | 1.67957e+08 | 127014      | 13.87 | 14.1    | 13.7555 | 14.03 | 2.35644e+09 | 0.0114041    | 0.000756229 | 0.3445\n",
       "20150102 | PNW    | 1.1045e+08  | 640202      | 68.64 | 68.83   | 67.69   | 68.58 | 7.57466e+09 | -0.000874891 | 0.00579631  | 1.14\n",
       "20150102 | AAN    | 7.2474e+07  | 898851      | 30.62 | 30.86   | 30.04   | 30.81 | 2.23292e+09 | 0.00616683   | 0.0124024   | 0.82\n",
       "20150102 | ABT    | 1.50579e+09 | 3.21656e+06 | 44.9  | 45.4501 | 44.635  | 45.25 | 6.8137e+10  | 0.00773481   | 0.00213613  | 0.8151\n",
       "20150102 | WDDD   | 9.6852e+07  | 53437       | 0.142 | 0.149   | 0.14    | 0.148 | 1.43341e+07 | 0.0405405    | 0.000551739 | 0.009\n",
       "20150102 | ACET   | 2.9065e+07  | 158985      | 21.62 | 21.964  | 21.215  | 21.89 | 6.36233e+08 | 0.0123344    | 0.00546998  | 0.749\n",
       "... (3161929 rows omitted)"
      ]
     },
     "execution_count": 136,
     "metadata": {},
     "output_type": "execute_result"
    }
   ],
   "source": [
    "daily.sort('date')"
   ]
  },
  {
   "cell_type": "markdown",
   "metadata": {},
   "source": [
    "# II. Individual Story Factors"
   ]
  },
  {
   "cell_type": "code",
   "execution_count": 120,
   "metadata": {},
   "outputs": [],
   "source": [
    "OLD_THRESHOLD = 0.6\n",
    "REPRINT_RECOMBINATION_THRESHOLD = 0.8"
   ]
  },
  {
   "cell_type": "code",
   "execution_count": 130,
   "metadata": {},
   "outputs": [],
   "source": [
    "data = data.with_column(\"OldNews\", data.column(\"Old\") > OLD_THRESHOLD)\n",
    "data = data.with_column(\"share_spanned\", data.column(\"ClosestNeighbor\") / data.column(\"Old\"))\n",
    "data = data.with_column(\"Reprint\", data.apply(lambda row: row[9] and row[10] >= REPRINT_RECOMBINATION_THRESHOLD))\n",
    "data = data.with_column(\"Recombination\", data.apply(lambda row: row[9] and row[10] < REPRINT_RECOMBINATION_THRESHOLD))\n",
    "data = data.relabel(\"length\", \"unique\")"
   ]
  },
  {
   "cell_type": "code",
   "execution_count": 131,
   "metadata": {},
   "outputs": [
    {
     "data": {
      "text/html": [
       "<table border=\"1\" class=\"dataframe\">\n",
       "    <thead>\n",
       "        <tr>\n",
       "            <th>id</th> <th>ticker</th> <th>date</th> <th>time</th> <th>Old</th> <th>ClosestNeighbor</th> <th>unique</th> <th>closest1</th> <th>closest2</th> <th>OldNews</th> <th>share_spanned</th> <th>Reprint</th> <th>Recombination</th>\n",
       "        </tr>\n",
       "    </thead>\n",
       "    <tbody>\n",
       "        <tr>\n",
       "            <td>A7186S972M</td> <td>BA    </td> <td>20150224</td> <td>10:00:44</td> <td>0.33</td> <td>0.05           </td> <td>407   </td> <td>UTBGWCGZPC</td> <td>VDFQEFZZKG</td> <td>False  </td> <td>0.151515     </td> <td>False  </td> <td>False        </td>\n",
       "        </tr>\n",
       "        <tr>\n",
       "            <td>AD676TTDS4</td> <td>BAC   </td> <td>20150224</td> <td>12:13:19</td> <td>0.63</td> <td>0.11           </td> <td>271   </td> <td>RACFHISWOW</td> <td>TPNEHGLCJC</td> <td>True   </td> <td>0.174603     </td> <td>False  </td> <td>True         </td>\n",
       "        </tr>\n",
       "        <tr>\n",
       "            <td>C7Z16KLVRE</td> <td>JPM   </td> <td>20150225</td> <td>12:16:13</td> <td>0.16</td> <td>0.04           </td> <td>98    </td> <td>PSPYXMGDZL</td> <td>GXOBQGIXJK</td> <td>False  </td> <td>0.25         </td> <td>False  </td> <td>False        </td>\n",
       "        </tr>\n",
       "        <tr>\n",
       "            <td>CFNR6S972O</td> <td>HPQ   </td> <td>20150225</td> <td>15:02:15</td> <td>0.15</td> <td>0.03           </td> <td>178   </td> <td>GIMZXBSEWX</td> <td>ZYOHBXFJXO</td> <td>False  </td> <td>0.2          </td> <td>False  </td> <td>False        </td>\n",
       "        </tr>\n",
       "        <tr>\n",
       "            <td>E4ON6JIJUR</td> <td>CMCSA </td> <td>20150226</td> <td>13:00:23</td> <td>0.1 </td> <td>0.02           </td> <td>298   </td> <td>IZBWTBNLUP</td> <td>JHXAECOFVL</td> <td>False  </td> <td>0.2          </td> <td>False  </td> <td>False        </td>\n",
       "        </tr>\n",
       "        <tr>\n",
       "            <td>E4ON6JIJUR</td> <td>VZ    </td> <td>20150226</td> <td>13:00:23</td> <td>0.29</td> <td>0.27           </td> <td>160   </td> <td>EUNHUPLRKF</td> <td>YCLFBIGDMC</td> <td>False  </td> <td>0.931034     </td> <td>False  </td> <td>False        </td>\n",
       "        </tr>\n",
       "        <tr>\n",
       "            <td>FWPF6TTDSE</td> <td>KKR   </td> <td>20150227</td> <td>12:03:15</td> <td>0.71</td> <td>0.52           </td> <td>59    </td> <td>DONFCGLDHG</td> <td>KDNMXAGHGT</td> <td>True   </td> <td>0.732394     </td> <td>False  </td> <td>True         </td>\n",
       "        </tr>\n",
       "        <tr>\n",
       "            <td>8TAW6K50XY</td> <td>9769Z </td> <td>20150223</td> <td>16:06:32</td> <td>0.63</td> <td>0.14           </td> <td>288   </td> <td>YOMDOKHRFD</td> <td>NAAQUDSJRC</td> <td>True   </td> <td>0.222222     </td> <td>False  </td> <td>True         </td>\n",
       "        </tr>\n",
       "        <tr>\n",
       "            <td>8TAW6K50XY</td> <td>SF    </td> <td>20150223</td> <td>16:06:32</td> <td>0.07</td> <td>0.02           </td> <td>343   </td> <td>PQJNIPIJUS</td> <td>TTFNYRKMNP</td> <td>False  </td> <td>0.285714     </td> <td>False  </td> <td>False        </td>\n",
       "        </tr>\n",
       "        <tr>\n",
       "            <td>9VXX6K50YG</td> <td>HD    </td> <td>20150224</td> <td>06:01:09</td> <td>0.84</td> <td>0.52           </td> <td>400   </td> <td>VKPCWAAXBQ</td> <td>HJEMPDYORB</td> <td>True   </td> <td>0.619048     </td> <td>False  </td> <td>True         </td>\n",
       "        </tr>\n",
       "    </tbody>\n",
       "</table>\n",
       "<p>... (743 rows omitted)</p>"
      ],
      "text/plain": [
       "id         | ticker | date     | time     | Old  | ClosestNeighbor | unique | closest1   | closest2   | OldNews | share_spanned | Reprint | Recombination\n",
       "A7186S972M | BA     | 20150224 | 10:00:44 | 0.33 | 0.05            | 407    | UTBGWCGZPC | VDFQEFZZKG | False   | 0.151515      | False   | False\n",
       "AD676TTDS4 | BAC    | 20150224 | 12:13:19 | 0.63 | 0.11            | 271    | RACFHISWOW | TPNEHGLCJC | True    | 0.174603      | False   | True\n",
       "C7Z16KLVRE | JPM    | 20150225 | 12:16:13 | 0.16 | 0.04            | 98     | PSPYXMGDZL | GXOBQGIXJK | False   | 0.25          | False   | False\n",
       "CFNR6S972O | HPQ    | 20150225 | 15:02:15 | 0.15 | 0.03            | 178    | GIMZXBSEWX | ZYOHBXFJXO | False   | 0.2           | False   | False\n",
       "E4ON6JIJUR | CMCSA  | 20150226 | 13:00:23 | 0.1  | 0.02            | 298    | IZBWTBNLUP | JHXAECOFVL | False   | 0.2           | False   | False\n",
       "E4ON6JIJUR | VZ     | 20150226 | 13:00:23 | 0.29 | 0.27            | 160    | EUNHUPLRKF | YCLFBIGDMC | False   | 0.931034      | False   | False\n",
       "FWPF6TTDSE | KKR    | 20150227 | 12:03:15 | 0.71 | 0.52            | 59     | DONFCGLDHG | KDNMXAGHGT | True    | 0.732394      | False   | True\n",
       "8TAW6K50XY | 9769Z  | 20150223 | 16:06:32 | 0.63 | 0.14            | 288    | YOMDOKHRFD | NAAQUDSJRC | True    | 0.222222      | False   | True\n",
       "8TAW6K50XY | SF     | 20150223 | 16:06:32 | 0.07 | 0.02            | 343    | PQJNIPIJUS | TTFNYRKMNP | False   | 0.285714      | False   | False\n",
       "9VXX6K50YG | HD     | 20150224 | 06:01:09 | 0.84 | 0.52            | 400    | VKPCWAAXBQ | HJEMPDYORB | True    | 0.619048      | False   | True\n",
       "... (743 rows omitted)"
      ]
     },
     "execution_count": 131,
     "metadata": {},
     "output_type": "execute_result"
    }
   ],
   "source": [
    "data"
   ]
  },
  {
   "cell_type": "markdown",
   "metadata": {},
   "source": [
    "# III. Firm Factors"
   ]
  },
  {
   "cell_type": "code",
   "execution_count": 122,
   "metadata": {},
   "outputs": [],
   "source": [
    "groupCount = data.group([\"ticker\", \"date\"])\n",
    "groupSum = data.group([\"ticker\", \"date\"], np.sum)"
   ]
  },
  {
   "cell_type": "code",
   "execution_count": 123,
   "metadata": {},
   "outputs": [],
   "source": [
    "firms = Table().with_columns(\"ticker\", groupCount.column(\"ticker\"),\n",
    "                             \"date\", groupCount.column(\"date\"),\n",
    "                             \"PctOld\", groupSum.column(\"OldNews sum\")/groupCount.column(\"count\"),\n",
    "                             \"PctRecombination\", groupSum.column(\"Recombination sum\")/groupCount.column(\"count\"),\n",
    "                             \"ExtentOld\", groupSum.column(\"Old sum\")/groupCount.column(\"count\"),\n",
    "                             \"ExtentRecombination\", (groupSum.column(\"Old sum\")-groupSum.column(\"ClosestNeighbor sum\"))/groupCount.column(\"count\"))"
   ]
  },
  {
   "cell_type": "code",
   "execution_count": 124,
   "metadata": {},
   "outputs": [],
   "source": [
    "avg_unique_data = data.group([\"date\"], np.average)\n",
    "def avg_unique(date):\n",
    "    return avg_unique_data.where(\"date\", date).column(\"unique average\").item(0)"
   ]
  },
  {
   "cell_type": "markdown",
   "metadata": {},
   "source": [
    "### Abnormal Factors"
   ]
  },
  {
   "cell_type": "code",
   "execution_count": 125,
   "metadata": {},
   "outputs": [],
   "source": [
    "firms = firms.with_columns(\"log(|S|)\", np.log(groupCount.column(\"count\")),\n",
    "                          \"log(avg_unique)\", np.log(firms.apply(avg_unique, \"date\")),\n",
    "                          \"log(avg_unique)^2\", np.square(np.log(firms.apply(avg_unique, \"date\"))))"
   ]
  },
  {
   "cell_type": "code",
   "execution_count": 126,
   "metadata": {},
   "outputs": [],
   "source": [
    "firms_df = firms.to_df().set_index(['ticker', 'date'])\n",
    "\n",
    "extentOldModel = PanelOLS(firms_df[[\"ExtentOld\"]], firms_df[[\"log(|S|)\", \"log(avg_unique)\", \"log(avg_unique)^2\"]]).fit()\n",
    "extentRecombinationModel = PanelOLS(firms_df[[\"ExtentRecombination\"]], firms_df[[\"log(|S|)\", \"log(avg_unique)\", \"log(avg_unique)^2\"]]).fit()\n",
    "\n",
    "abnPctOld = Table.from_df(firms_df).column(\"ExtentOld\") - Table.from_df(extentOldModel.predict(firms_df[[\"log(|S|)\", \"log(avg_unique)\", \"log(avg_unique)^2\"]])).column(\"predictions\")\n",
    "abnPctRecombination = Table.from_df(firms_df).column(\"ExtentOld\") - Table.from_df(extentRecombinationModel.predict(firms_df[[\"log(|S|)\", \"log(avg_unique)\", \"log(avg_unique)^2\"]])).column(\"predictions\")\n",
    "\n",
    "firms = firms.with_columns(\"AbnPctOld\", abnPctOld,\n",
    "                           \"AbnPctRecombination\", abnPctRecombination)"
   ]
  },
  {
   "cell_type": "code",
   "execution_count": 127,
   "metadata": {},
   "outputs": [
    {
     "data": {
      "text/html": [
       "<table border=\"1\" class=\"dataframe\">\n",
       "    <thead>\n",
       "        <tr>\n",
       "            <th>ticker</th> <th>date</th> <th>PctOld</th> <th>PctRecombination</th> <th>ExtentOld</th> <th>ExtentRecombination</th> <th>log(|S|)</th> <th>log(avg_unique)</th> <th>log(avg_unique)^2</th> <th>abnPctOld</th> <th>abnPctRecombination</th>\n",
       "        </tr>\n",
       "    </thead>\n",
       "    <tbody>\n",
       "        <tr>\n",
       "            <td>0084207D</td> <td>20150619</td> <td>0     </td> <td>0               </td> <td>0.19     </td> <td>0.01               </td> <td>0       </td> <td>4.77576        </td> <td>22.8079          </td> <td>-0.345976</td> <td>-0.0837963         </td>\n",
       "        </tr>\n",
       "        <tr>\n",
       "            <td>0196476D</td> <td>20150331</td> <td>0.5   </td> <td>0.5             </td> <td>0.675    </td> <td>0.26               </td> <td>0.693147</td> <td>5.67091        </td> <td>32.1593          </td> <td>0.16177  </td> <td>0.437619           </td>\n",
       "        </tr>\n",
       "        <tr>\n",
       "            <td>0604939D</td> <td>20150306</td> <td>0     </td> <td>0               </td> <td>0.1      </td> <td>0.08               </td> <td>0       </td> <td>5.02607        </td> <td>25.2614          </td> <td>-0.438796</td> <td>-0.167215          </td>\n",
       "        </tr>\n",
       "        <tr>\n",
       "            <td>0953834D</td> <td>20150423</td> <td>1     </td> <td>1               </td> <td>0.92     </td> <td>0.68               </td> <td>0       </td> <td>5.64696        </td> <td>31.8882          </td> <td>0.385077 </td> <td>0.678109           </td>\n",
       "        </tr>\n",
       "        <tr>\n",
       "            <td>0966904D</td> <td>20150520</td> <td>1     </td> <td>1               </td> <td>1.01     </td> <td>0.47               </td> <td>0       </td> <td>5.54796        </td> <td>30.7799          </td> <td>0.473421 </td> <td>0.763212           </td>\n",
       "        </tr>\n",
       "        <tr>\n",
       "            <td>1012005D</td> <td>20150331</td> <td>0     </td> <td>0               </td> <td>0.42     </td> <td>0.05               </td> <td>0       </td> <td>5.67091        </td> <td>32.1593          </td> <td>-0.114464</td> <td>0.179343           </td>\n",
       "        </tr>\n",
       "        <tr>\n",
       "            <td>1013340Z</td> <td>20150611</td> <td>1     </td> <td>1               </td> <td>0.73     </td> <td>0.25               </td> <td>0       </td> <td>5.35517        </td> <td>28.6778          </td> <td>0.191328 </td> <td>0.47461            </td>\n",
       "        </tr>\n",
       "        <tr>\n",
       "            <td>1254673D</td> <td>20150526</td> <td>0     </td> <td>0               </td> <td>0.24     </td> <td>0.15               </td> <td>0       </td> <td>5.64191        </td> <td>31.8311          </td> <td>-0.295017</td> <td>-0.00214864        </td>\n",
       "        </tr>\n",
       "        <tr>\n",
       "            <td>129626Z </td> <td>20150310</td> <td>0     </td> <td>0               </td> <td>0.06     </td> <td>0.04               </td> <td>0       </td> <td>5.59099        </td> <td>31.2591          </td> <td>-0.475908</td> <td>-0.1847            </td>\n",
       "        </tr>\n",
       "        <tr>\n",
       "            <td>1313606D</td> <td>20150407</td> <td>0     </td> <td>0               </td> <td>0.07     </td> <td>-0.01              </td> <td>0       </td> <td>5.74833        </td> <td>33.0433          </td> <td>-0.46282 </td> <td>-0.166538          </td>\n",
       "        </tr>\n",
       "    </tbody>\n",
       "</table>\n",
       "<p>... (617 rows omitted)</p>"
      ],
      "text/plain": [
       "ticker   | date     | PctOld | PctRecombination | ExtentOld | ExtentRecombination | log(|S|) | log(avg_unique) | log(avg_unique)^2 | abnPctOld | abnPctRecombination\n",
       "0084207D | 20150619 | 0      | 0                | 0.19      | 0.01                | 0        | 4.77576         | 22.8079           | -0.345976 | -0.0837963\n",
       "0196476D | 20150331 | 0.5    | 0.5              | 0.675     | 0.26                | 0.693147 | 5.67091         | 32.1593           | 0.16177   | 0.437619\n",
       "0604939D | 20150306 | 0      | 0                | 0.1       | 0.08                | 0        | 5.02607         | 25.2614           | -0.438796 | -0.167215\n",
       "0953834D | 20150423 | 1      | 1                | 0.92      | 0.68                | 0        | 5.64696         | 31.8882           | 0.385077  | 0.678109\n",
       "0966904D | 20150520 | 1      | 1                | 1.01      | 0.47                | 0        | 5.54796         | 30.7799           | 0.473421  | 0.763212\n",
       "1012005D | 20150331 | 0      | 0                | 0.42      | 0.05                | 0        | 5.67091         | 32.1593           | -0.114464 | 0.179343\n",
       "1013340Z | 20150611 | 1      | 1                | 0.73      | 0.25                | 0        | 5.35517         | 28.6778           | 0.191328  | 0.47461\n",
       "1254673D | 20150526 | 0      | 0                | 0.24      | 0.15                | 0        | 5.64191         | 31.8311           | -0.295017 | -0.00214864\n",
       "129626Z  | 20150310 | 0      | 0                | 0.06      | 0.04                | 0        | 5.59099         | 31.2591           | -0.475908 | -0.1847\n",
       "1313606D | 20150407 | 0      | 0                | 0.07      | -0.01               | 0        | 5.74833         | 33.0433           | -0.46282  | -0.166538\n",
       "... (617 rows omitted)"
      ]
     },
     "execution_count": 127,
     "metadata": {},
     "output_type": "execute_result"
    }
   ],
   "source": [
    "firms"
   ]
  },
  {
   "cell_type": "markdown",
   "metadata": {},
   "source": [
    "# IV. Regressions"
   ]
  },
  {
   "cell_type": "code",
   "execution_count": 149,
   "metadata": {},
   "outputs": [],
   "source": [
    "def dateSubtract(d, minusDays):\n",
    "    new_date = datetime.date(d//10000, d//100%100, d%100) - datetime.timedelta(minusDays)\n",
    "    return new_date.year*10000+new_date.month*100+new_date.day"
   ]
  },
  {
   "cell_type": "code",
   "execution_count": null,
   "metadata": {},
   "outputs": [],
   "source": [
    "# ERROR: Ticker DNE?\n",
    "tickerDNE = []\n",
    "# \"\"\"\n",
    "for ticker in firms.group(\"ticker\").column(\"ticker\"):\n",
    "    if daily.where(\"ticker\", ticker).num_rows == 0:\n",
    "        tickerDNE.append(ticker)\n",
    "# \"\"\""
   ]
  },
  {
   "cell_type": "code",
   "execution_count": null,
   "metadata": {},
   "outputs": [],
   "source": [
    "dailyAverage = daily.group(\"date\", np.average)\n",
    "\n",
    "# CHECK: Calculating 'return'? assuming: (close - open)/open (%)\n",
    "# CHECK: value-weighted?\n",
    "def abnRet(row):\n",
    "    if row[0] in tickerDNE:\n",
    "        return None\n",
    "    prevDayAvgReturn = dailyAverage.where(\"date\", dateSubtract(row[1], 1)).column(\"return average\").item(0)\n",
    "    return daily.where(\"ticker\", row[0]).where(\"date\", row[1]).column(\"return\").item(0) - prevDayAvgReturn\n",
    "\n",
    "# CHECK: 'shares turned over' = trading volume?\n",
    "# assuming: frac for day t+1, avg frac for all firms on day t\n",
    "def abnVol(row):\n",
    "    if row[0] in tickerDNE:\n",
    "        return None\n",
    "    prevDayAvgFrac = dailyAverage.where(\"date\", dateSubtract(row[1], 1)).column(\"frac average\").item(0)\n",
    "    return daily.where(\"ticker\", row[0]).where(\"date\", row[1]).column(\"frac\").item(0) - prevDayAvgFrac\n",
    "\n",
    "firms = firms.with_column(\"AbnRet\", groupCount.apply(abnRet))\n",
    "firms = firms.with_column(\"AbnVol\", groupCount.apply(abnVol))"
   ]
  },
  {
   "cell_type": "code",
   "execution_count": null,
   "metadata": {},
   "outputs": [],
   "source": [
    "firms # check to this point, then del"
   ]
  },
  {
   "cell_type": "code",
   "execution_count": null,
   "metadata": {},
   "outputs": [],
   "source": [
    "def abn_stories(row):\n",
    "    forFirm = groupCount.where(\"ticker\", row[0])\n",
    "    oneWeekAgo = dateSubtract(row[1], 5)\n",
    "    twoMonthsAgo = dateSubtract(row[1], 60)\n",
    "    pastWeek = np.average(forFirm.where(\"date\", are.between(oneWeekAgo, row[1])).column(\"count\"))\n",
    "    pastTwoMonths = np.average(forFirm.where(\"date\", are.between(twoMonthsAgo, oneWeekAgo)).column(\"count\"))\n",
    "    return pastWeek - pastTwoMonths\n",
    "\n",
    "def m_cap(row):\n",
    "    return daily.where(\"ticker\", row[0]).where(\"date\", row[1]).column(\"MCap\").item(0)\n",
    "\n",
    "def recent_quarter_bval(row):\n",
    "    return quarterly.where(\"ticker\", row[0]).where(\"date\", are.below_or_equal_to(row[1])).sort(\"date\").column(\"BVal\").item(0)\n",
    "\n",
    "def bm(row):\n",
    "    return recent_quarter_bval(row)/m_cap(row)\n",
    "\n",
    "def abn_ret_pweek(row):\n",
    "    return np.sum(firms.where(\"ticker\", row[0]).where(\"date\", are.between(dateSubtract(row[1], 5), row[1])).column(\"AbnRet\"))\n",
    "\n",
    "def abn_vol_pweek(row):\n",
    "    return np.average(firms.where(\"ticker\", row[0]).where(\"date\", are.between(dateSubtract(row[1], 5), row[1])).column(\"AbnVol\"))\n",
    "\n",
    "# CHECK: calculating volatility (high-low)\n",
    "def abn_volatility_pweek(row):\n",
    "    prevDaysAvgVolatility = dailyAverage.where(\"date\", are.between(dateSubtract(row[1], 5), row[1])).column(\"frac volatility\").item(0)\n",
    "    return daily.where(\"ticker\", row[0]).where(\"date\", row[1]).column(\"volatility\").item(0) - prevDayAvgVolatility\n",
    "\n",
    "# CHECK: volume = closing * trading vol\n",
    "def illiq_pweek(row):\n",
    "    prior_week = daily.where(\"ticker\", row[0]).where(\"date\", are.between(dateSubtract(row[1], 5), row[1]))\n",
    "    prior_week_illiq = 10e6 * prior_week.column(\"return\") / (prior_week.column(\"cshtrd\") * prior_week.column(\"prccd\"))\n",
    "    return np.log(np.average(prior_week_illiq))\n",
    "\n",
    "Stories = groupCount.column(\"count\") # all stories in data are relevant, each row is a story\n",
    "AbnStories = groupCount.apply(abn_stories)\n",
    "Terms = groupSum.column(\"unique sum\")/groupCount.column(\"count\")\n",
    "MCap = groupCount.apply(m_cap)\n",
    "BM = groupCount.apply(bm)\n",
    "# TODO: business days?\n",
    "AbnRetPW = groupCount.apply(abn_ret_pweek)\n",
    "AbnVolPW = groupCount.apply(abn_vol_pweek)\n",
    "AbnVolatilityPW = groupCount.apply(abn_volatility_pweek)\n",
    "IlliqPW = groupCount.apply(illiq_pweek)"
   ]
  },
  {
   "cell_type": "code",
   "execution_count": null,
   "metadata": {},
   "outputs": [],
   "source": [
    "firms = firms.with_columns(\"Stories\", Stories,\n",
    "                           \"AbnStories\", AbnStories,\n",
    "                           \"Terms\", Terms,\n",
    "                           \"MCap\", MCap,\n",
    "                           \"BM\", BM,\n",
    "                           \"AbnRetPW\", AbnRetPW,\n",
    "                           \"AbnVolPW\", AbnVolPW,\n",
    "                           \"AbnVolatilityPW\", AbnVolatilityPW,\n",
    "                           \"IlliqPW\", IlliqPW)"
   ]
  },
  {
   "cell_type": "code",
   "execution_count": null,
   "metadata": {},
   "outputs": [],
   "source": [
    "firms"
   ]
  },
  {
   "cell_type": "code",
   "execution_count": null,
   "metadata": {},
   "outputs": [],
   "source": [
    "firms = firms.with_column(\"a\", 1)\n",
    "firms_df = firms.take().to_df().set_index(['ticker', 'date'])"
   ]
  },
  {
   "cell_type": "markdown",
   "metadata": {},
   "source": [
    "### Regressions for Market Reactions to Old News"
   ]
  },
  {
   "cell_type": "code",
   "execution_count": 126,
   "metadata": {},
   "outputs": [],
   "source": [
    "params = [\"a\", \"AbnPctOld\", \"Stories\", \"AbnStories\", \"Terms\", \"MCap\", \"BM\", \"AbnRetPW\", \"AbnVolPW\", \"AbnVolatilityPW\", \"IlliqPW\"]\n",
    "\n",
    "# Do we need to shift AbnRet and AbnVol by a day? Yes.\n",
    "abnRetModel_OldNews = FamaMacBeth(firms_df[[\"AbnRet\"]][1:], firms_df[params][:-1]).fit('heteroskedastic', 'bartlett')\n",
    "abnVolModel_OldNews = FamaMacBeth(firms_df[[\"AbnVol\"]][1:], firms_df[params][:-1]).fit('heteroskedastic', 'bartlett')\n",
    "\n",
    "print(abnRetModel_OldNews, abnVolModel_OldNews)"
   ]
  },
  {
   "cell_type": "markdown",
   "metadata": {},
   "source": [
    "### Regressions for Market Reactions to Recombinations"
   ]
  },
  {
   "cell_type": "code",
   "execution_count": null,
   "metadata": {},
   "outputs": [],
   "source": [
    "params = [\"a\", \"AbnPctOld\", \"AbnPctRecombinations\", \"Stories\", \"AbnStories\", \"Terms\", \"MCap\", \"BM\", \"AbnRetPW\", \"AbnVolPW\", \"AbnVolatilityPW\", \"IlliqPW\"]\n",
    "\n",
    "abnRetModel_Recombination = FamaMacBeth(firms_df[[\"AbnRet\"]][1:], firms_df[params][:-1]).fit('heteroskedastic', 'bartlett')\n",
    "abnVolModel_Recombination = FamaMacBeth(firms_df[[\"AbnVol\"]][1:], firms_df[params][:-1]).fit('heteroskedastic', 'bartlett')\n",
    "\n",
    "print(abnRetModel_Recombination, abnVolModel_Recombination)"
   ]
  },
  {
   "cell_type": "markdown",
   "metadata": {},
   "source": [
    "### Regressions for Market Reversal Reactions to Recombinations"
   ]
  },
  {
   "cell_type": "code",
   "execution_count": null,
   "metadata": {},
   "outputs": [],
   "source": [
    "firms = firms.with_columns(\"AbnPctOld*AbnRet\", firms.column(\"AbnPctOld\")*firms.column(\"AbnRet\"),\n",
    "                           \"AbnPctRecombination*AbnRet\", firms.column(\"AbnPctRecombination\")*firms.column(\"AbnRet\"))\n",
    "firms_df = firms.take().to_df().set_index(['ticker', 'date'])"
   ]
  },
  {
   "cell_type": "code",
   "execution_count": null,
   "metadata": {},
   "outputs": [],
   "source": [
    "# CHECK: Typo on pg21, last paragraph?\n",
    "params = [\"a\", \"AbnPctOld\", \"AbnPctOld*AbnRet\", \"AbnRet\", \"AbnPctRecombination\", \"AbnPctRecombination*AbnRet\", \"Stories\", \"AbnStories\", \"Terms\", \"MCap\", \"BM\", \"AbnRetPW\", \"AbnVolPW\", \"AbnVolatilityPW\", \"IlliqPW\"]\n",
    "# THEN: Switch this to [t+t1, t+t2] instead of just [t+1]\n",
    "abnRetModel_Reversal = FamaMacBeth(firms_df[[\"AbnRet\"]][1:], firms_df[params][:-1]).fit('heteroskedastic', 'bartlett')\n",
    "print(abnRetModel_Reversal)"
   ]
  }
 ],
 "metadata": {
  "kernelspec": {
   "display_name": "Python 3",
   "language": "python",
   "name": "python3"
  },
  "language_info": {
   "codemirror_mode": {
    "name": "ipython",
    "version": 3
   },
   "file_extension": ".py",
   "mimetype": "text/x-python",
   "name": "python",
   "nbconvert_exporter": "python",
   "pygments_lexer": "ipython3",
   "version": "3.6.5"
  }
 },
 "nbformat": 4,
 "nbformat_minor": 2
}
